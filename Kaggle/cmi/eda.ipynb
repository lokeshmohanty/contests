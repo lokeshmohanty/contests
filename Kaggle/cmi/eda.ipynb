{
 "cells": [
  {
   "cell_type": "code",
   "execution_count": 35,
   "metadata": {
    "_cell_guid": "b1076dfc-b9ad-4769-8c92-a6c4dae69d19",
    "_uuid": "8f2839f25d086af736a60e9eeb907d3b93b6e0e5"
   },
   "outputs": [],
   "source": [
    "import os\n",
    "import polars as pl"
   ]
  },
  {
   "cell_type": "code",
   "execution_count": 36,
   "metadata": {},
   "outputs": [],
   "source": [
    "data_dir = 'data' \n",
    "# data_dir = '/kaggle/input/cmi-detect-behavior-with-sensor-data'\n",
    "df_train = pl.read_csv(data_dir + '/train.csv')\n",
    "df_test = pl.read_csv(data_dir + '/test.csv')\n",
    "\n",
    "demo_train = pl.read_csv(data_dir + '/train_demographics.csv')\n",
    "demo_test = pl.read_csv(data_dir + '/test_demographics.csv')"
   ]
  },
  {
   "cell_type": "code",
   "execution_count": 37,
   "metadata": {},
   "outputs": [
    {
     "name": "stdout",
     "output_type": "stream",
     "text": [
      "BFRB shape: (8,)\n",
      "Series: 'gesture' [str]\n",
      "[\n",
      "\t\"Neck - pinch skin\"\n",
      "\t\"Above ear - pull hair\"\n",
      "\t\"Neck - scratch\"\n",
      "\t\"Eyebrow - pull hair\"\n",
      "\t\"Eyelash - pull hair\"\n",
      "\t\"Forehead - scratch\"\n",
      "\t\"Forehead - pull hairline\"\n",
      "\t\"Cheek - pinch skin\"\n",
      "]\n",
      "Non-BFRB shape: (10,)\n",
      "Series: 'gesture' [str]\n",
      "[\n",
      "\t\"Pull air toward your face\"\n",
      "\t\"Feel around in tray and pull o…\n",
      "\t\"Drink from bottle/cup\"\n",
      "\t\"Text on phone\"\n",
      "\t\"Write name in air\"\n",
      "\t\"Write name on leg\"\n",
      "\t\"Glasses on/off\"\n",
      "\t\"Pinch knee/leg skin\"\n",
      "\t\"Wave hello\"\n",
      "\t\"Scratch knee/leg skin\"\n",
      "]\n",
      "Labels: shape: (18,)\n",
      "Series: 'gesture' [str]\n",
      "[\n",
      "\t\"Forehead - scratch\"\n",
      "\t\"Pinch knee/leg skin\"\n",
      "\t\"Forehead - pull hairline\"\n",
      "\t\"Glasses on/off\"\n",
      "\t\"Write name on leg\"\n",
      "\t…\n",
      "\t\"Drink from bottle/cup\"\n",
      "\t\"Scratch knee/leg skin\"\n",
      "\t\"Pull air toward your face\"\n",
      "\t\"Eyelash - pull hair\"\n",
      "\t\"Write name in air\"\n",
      "]\n",
      "Train data: (574945, 341) -> (574945, 13)\n",
      "Test data: (107, 336) -> (107, 10)\n",
      "shape: (5, 13)\n",
      "┌───────────┬───────────┬───────────┬───────────┬───┬───────────┬───────────┬───────────┬──────────┐\n",
      "│ subject   ┆ sequence_ ┆ sequence_ ┆ acc_x     ┆ … ┆ rot_z     ┆ phase     ┆ gesture   ┆ sequence │\n",
      "│ ---       ┆ id        ┆ counter   ┆ ---       ┆   ┆ ---       ┆ ---       ┆ ---       ┆ _type    │\n",
      "│ str       ┆ ---       ┆ ---       ┆ f64       ┆   ┆ f64       ┆ str       ┆ str       ┆ ---      │\n",
      "│           ┆ str       ┆ i64       ┆           ┆   ┆           ┆           ┆           ┆ str      │\n",
      "╞═══════════╪═══════════╪═══════════╪═══════════╪═══╪═══════════╪═══════════╪═══════════╪══════════╡\n",
      "│ SUBJ_0595 ┆ SEQ_00000 ┆ 0         ┆ 6.683594  ┆ … ┆ -0.809753 ┆ Transitio ┆ Cheek -   ┆ Target   │\n",
      "│ 20        ┆ 7         ┆           ┆           ┆   ┆           ┆ n         ┆ pinch     ┆          │\n",
      "│           ┆           ┆           ┆           ┆   ┆           ┆           ┆ skin      ┆          │\n",
      "│ SUBJ_0595 ┆ SEQ_00000 ┆ 1         ┆ 6.949219  ┆ … ┆ -0.824524 ┆ Transitio ┆ Cheek -   ┆ Target   │\n",
      "│ 20        ┆ 7         ┆           ┆           ┆   ┆           ┆ n         ┆ pinch     ┆          │\n",
      "│           ┆           ┆           ┆           ┆   ┆           ┆           ┆ skin      ┆          │\n",
      "│ SUBJ_0595 ┆ SEQ_00000 ┆ 2         ┆ 5.722656  ┆ … ┆ -0.865662 ┆ Transitio ┆ Cheek -   ┆ Target   │\n",
      "│ 20        ┆ 7         ┆           ┆           ┆   ┆           ┆ n         ┆ pinch     ┆          │\n",
      "│           ┆           ┆           ┆           ┆   ┆           ┆           ┆ skin      ┆          │\n",
      "│ SUBJ_0595 ┆ SEQ_00000 ┆ 3         ┆ 6.6015625 ┆ … ┆ -0.885986 ┆ Transitio ┆ Cheek -   ┆ Target   │\n",
      "│ 20        ┆ 7         ┆           ┆           ┆   ┆           ┆ n         ┆ pinch     ┆          │\n",
      "│           ┆           ┆           ┆           ┆   ┆           ┆           ┆ skin      ┆          │\n",
      "│ SUBJ_0595 ┆ SEQ_00000 ┆ 4         ┆ 5.566406  ┆ … ┆ -0.914856 ┆ Transitio ┆ Cheek -   ┆ Target   │\n",
      "│ 20        ┆ 7         ┆           ┆           ┆   ┆           ┆ n         ┆ pinch     ┆          │\n",
      "│           ┆           ┆           ┆           ┆   ┆           ┆           ┆ skin      ┆          │\n",
      "└───────────┴───────────┴───────────┴───────────┴───┴───────────┴───────────┴───────────┴──────────┘ shape: (5, 10)\n",
      "┌───────────┬───────────┬───────────┬───────────┬───┬───────────┬───────────┬───────────┬──────────┐\n",
      "│ subject   ┆ sequence_ ┆ sequence_ ┆ acc_x     ┆ … ┆ rot_w     ┆ rot_x     ┆ rot_y     ┆ rot_z    │\n",
      "│ ---       ┆ id        ┆ counter   ┆ ---       ┆   ┆ ---       ┆ ---       ┆ ---       ┆ ---      │\n",
      "│ str       ┆ ---       ┆ ---       ┆ f64       ┆   ┆ f64       ┆ f64       ┆ f64       ┆ f64      │\n",
      "│           ┆ str       ┆ i64       ┆           ┆   ┆           ┆           ┆           ┆          │\n",
      "╞═══════════╪═══════════╪═══════════╪═══════════╪═══╪═══════════╪═══════════╪═══════════╪══════════╡\n",
      "│ SUBJ_0558 ┆ SEQ_00000 ┆ 0         ┆ 9.0390625 ┆ … ┆ 0.3671875 ┆ -0.3974   ┆ -0.629028 ┆ -0.55816 │\n",
      "│ 40        ┆ 1         ┆           ┆           ┆   ┆           ┆           ┆           ┆ 7        │\n",
      "│ SUBJ_0558 ┆ SEQ_00000 ┆ 1         ┆ 9.421875  ┆ … ┆ 0.353882  ┆ -0.507141 ┆ -0.65271  ┆ -0.43768 │\n",
      "│ 40        ┆ 1         ┆           ┆           ┆   ┆           ┆           ┆           ┆ 3        │\n",
      "│ SUBJ_0558 ┆ SEQ_00000 ┆ 2         ┆ 10.160156 ┆ … ┆ 0.384094  ┆ -0.532104 ┆ -0.639648 ┆ -0.40020 │\n",
      "│ 40        ┆ 1         ┆           ┆           ┆   ┆           ┆           ┆           ┆ 8        │\n",
      "│ SUBJ_0558 ┆ SEQ_00000 ┆ 3         ┆ 9.7734375 ┆ … ┆ 0.387756  ┆ -0.531982 ┆ -0.634033 ┆ -0.40582 │\n",
      "│ 40        ┆ 1         ┆           ┆           ┆   ┆           ┆           ┆           ┆ 3        │\n",
      "│ SUBJ_0558 ┆ SEQ_00000 ┆ 4         ┆ 9.1953125 ┆ … ┆ 0.382751  ┆ -0.53418  ┆ -0.638367 ┆ -0.40081 │\n",
      "│ 40        ┆ 1         ┆           ┆           ┆   ┆           ┆           ┆           ┆ 8        │\n",
      "└───────────┴───────────┴───────────┴───────────┴───┴───────────┴───────────┴───────────┴──────────┘\n"
     ]
    }
   ],
   "source": [
    "def preprocess(df, train=False):\n",
    "    if train:\n",
    "        df = df[:, [4, 2, 3, 9, 10, 11, 12, 13, 14, 15, 7, 8, 1]]\n",
    "    else:\n",
    "        df = df[:, [3, 1, 2, 4, 5, 6, 7, 8, 9, 10]]\n",
    "    df = df.with_columns(pl.col(pl.Float64).fill_null(0))\n",
    "    return df\n",
    "    \n",
    "df1 = preprocess(df_train, train=True)\n",
    "df2 = preprocess(df_test, train=False)\n",
    "# labels = df1.filter(pl.col(\"sequence_type\") == \"Target\")[\"gesture\"].unique().to_list() + ['Non-Target']\n",
    "labels = df1[\"gesture\"].unique()\n",
    "\n",
    "print('BFRB', df1.filter(pl.col(\"sequence_type\") == \"Target\")[\"gesture\"].unique())\n",
    "print('Non-BFRB', df1.filter(pl.col(\"sequence_type\") == \"Non-Target\")[\"gesture\"].unique())\n",
    "print('Labels:', labels)\n",
    "print(f'Train data: {df_train.shape} -> {df1.shape}')\n",
    "print(f'Test data: {df_test.shape} -> {df2.shape}')\n",
    "print(df1.head(), df2.head())"
   ]
  },
  {
   "cell_type": "code",
   "execution_count": 38,
   "metadata": {},
   "outputs": [
    {
     "data": {
      "text/html": [
       "<div><style>\n",
       ".dataframe > thead > tr,\n",
       ".dataframe > tbody > tr {\n",
       "  text-align: right;\n",
       "  white-space: pre-wrap;\n",
       "}\n",
       "</style>\n",
       "<small>shape: (9, 14)</small><table border=\"1\" class=\"dataframe\"><thead><tr><th>statistic</th><th>subject</th><th>sequence_id</th><th>sequence_counter</th><th>acc_x</th><th>acc_y</th><th>acc_z</th><th>rot_w</th><th>rot_x</th><th>rot_y</th><th>rot_z</th><th>phase</th><th>gesture</th><th>sequence_type</th></tr><tr><td>str</td><td>str</td><td>str</td><td>f64</td><td>f64</td><td>f64</td><td>f64</td><td>f64</td><td>f64</td><td>f64</td><td>f64</td><td>str</td><td>str</td><td>str</td></tr></thead><tbody><tr><td>&quot;count&quot;</td><td>&quot;574945&quot;</td><td>&quot;574945&quot;</td><td>574945.0</td><td>574945.0</td><td>574945.0</td><td>574945.0</td><td>574945.0</td><td>574945.0</td><td>574945.0</td><td>574945.0</td><td>&quot;574945&quot;</td><td>&quot;574945&quot;</td><td>&quot;574945&quot;</td></tr><tr><td>&quot;null_count&quot;</td><td>&quot;0&quot;</td><td>&quot;0&quot;</td><td>0.0</td><td>0.0</td><td>0.0</td><td>0.0</td><td>0.0</td><td>0.0</td><td>0.0</td><td>0.0</td><td>&quot;0&quot;</td><td>&quot;0&quot;</td><td>&quot;0&quot;</td></tr><tr><td>&quot;mean&quot;</td><td>null</td><td>null</td><td>43.645234</td><td>1.63998</td><td>1.790704</td><td>-0.459811</td><td>0.358061</td><td>-0.119146</td><td>-0.059568</td><td>-0.187089</td><td>null</td><td>null</td><td>null</td></tr><tr><td>&quot;std&quot;</td><td>null</td><td>null</td><td>45.717673</td><td>5.781259</td><td>5.003945</td><td>6.09649</td><td>0.226847</td><td>0.464122</td><td>0.541303</td><td>0.502741</td><td>null</td><td>null</td><td>null</td></tr><tr><td>&quot;min&quot;</td><td>&quot;SUBJ_000206&quot;</td><td>&quot;SEQ_000007&quot;</td><td>0.0</td><td>-34.585938</td><td>-24.402344</td><td>-42.855469</td><td>0.0</td><td>-0.999146</td><td>-0.999695</td><td>-0.998169</td><td>&quot;Gesture&quot;</td><td>&quot;Above ear - pull hair&quot;</td><td>&quot;Non-Target&quot;</td></tr><tr><td>&quot;25%&quot;</td><td>null</td><td>null</td><td>17.0</td><td>-2.964844</td><td>-2.121094</td><td>-5.417969</td><td>0.177063</td><td>-0.453979</td><td>-0.509216</td><td>-0.625366</td><td>null</td><td>null</td><td>null</td></tr><tr><td>&quot;50%&quot;</td><td>null</td><td>null</td><td>35.0</td><td>2.972656</td><td>0.6953125</td><td>-1.5625</td><td>0.338318</td><td>-0.183838</td><td>-0.107544</td><td>-0.259338</td><td>null</td><td>null</td><td>null</td></tr><tr><td>&quot;75%&quot;</td><td>null</td><td>null</td><td>54.0</td><td>6.34375</td><td>6.816406</td><td>5.1640625</td><td>0.50238</td><td>0.200745</td><td>0.435425</td><td>0.246826</td><td>null</td><td>null</td><td>null</td></tr><tr><td>&quot;max&quot;</td><td>&quot;SUBJ_064387&quot;</td><td>&quot;SEQ_065531&quot;</td><td>699.0</td><td>46.328125</td><td>27.183594</td><td>30.078125</td><td>0.99939</td><td>0.999817</td><td>0.999451</td><td>0.999878</td><td>&quot;Transition&quot;</td><td>&quot;Write name on leg&quot;</td><td>&quot;Target&quot;</td></tr></tbody></table></div>"
      ],
      "text/plain": [
       "shape: (9, 14)\n",
       "┌───────────┬───────────┬───────────┬───────────┬───┬───────────┬───────────┬───────────┬──────────┐\n",
       "│ statistic ┆ subject   ┆ sequence_ ┆ sequence_ ┆ … ┆ rot_z     ┆ phase     ┆ gesture   ┆ sequence │\n",
       "│ ---       ┆ ---       ┆ id        ┆ counter   ┆   ┆ ---       ┆ ---       ┆ ---       ┆ _type    │\n",
       "│ str       ┆ str       ┆ ---       ┆ ---       ┆   ┆ f64       ┆ str       ┆ str       ┆ ---      │\n",
       "│           ┆           ┆ str       ┆ f64       ┆   ┆           ┆           ┆           ┆ str      │\n",
       "╞═══════════╪═══════════╪═══════════╪═══════════╪═══╪═══════════╪═══════════╪═══════════╪══════════╡\n",
       "│ count     ┆ 574945    ┆ 574945    ┆ 574945.0  ┆ … ┆ 574945.0  ┆ 574945    ┆ 574945    ┆ 574945   │\n",
       "│ null_coun ┆ 0         ┆ 0         ┆ 0.0       ┆ … ┆ 0.0       ┆ 0         ┆ 0         ┆ 0        │\n",
       "│ t         ┆           ┆           ┆           ┆   ┆           ┆           ┆           ┆          │\n",
       "│ mean      ┆ null      ┆ null      ┆ 43.645234 ┆ … ┆ -0.187089 ┆ null      ┆ null      ┆ null     │\n",
       "│ std       ┆ null      ┆ null      ┆ 45.717673 ┆ … ┆ 0.502741  ┆ null      ┆ null      ┆ null     │\n",
       "│ min       ┆ SUBJ_0002 ┆ SEQ_00000 ┆ 0.0       ┆ … ┆ -0.998169 ┆ Gesture   ┆ Above ear ┆ Non-Targ │\n",
       "│           ┆ 06        ┆ 7         ┆           ┆   ┆           ┆           ┆ - pull    ┆ et       │\n",
       "│           ┆           ┆           ┆           ┆   ┆           ┆           ┆ hair      ┆          │\n",
       "│ 25%       ┆ null      ┆ null      ┆ 17.0      ┆ … ┆ -0.625366 ┆ null      ┆ null      ┆ null     │\n",
       "│ 50%       ┆ null      ┆ null      ┆ 35.0      ┆ … ┆ -0.259338 ┆ null      ┆ null      ┆ null     │\n",
       "│ 75%       ┆ null      ┆ null      ┆ 54.0      ┆ … ┆ 0.246826  ┆ null      ┆ null      ┆ null     │\n",
       "│ max       ┆ SUBJ_0643 ┆ SEQ_06553 ┆ 699.0     ┆ … ┆ 0.999878  ┆ Transitio ┆ Write     ┆ Target   │\n",
       "│           ┆ 87        ┆ 1         ┆           ┆   ┆           ┆ n         ┆ name on   ┆          │\n",
       "│           ┆           ┆           ┆           ┆   ┆           ┆           ┆ leg       ┆          │\n",
       "└───────────┴───────────┴───────────┴───────────┴───┴───────────┴───────────┴───────────┴──────────┘"
      ]
     },
     "execution_count": 38,
     "metadata": {},
     "output_type": "execute_result"
    }
   ],
   "source": [
    "df1.describe()"
   ]
  },
  {
   "cell_type": "code",
   "execution_count": 39,
   "metadata": {},
   "outputs": [
    {
     "data": {
      "text/plain": [
       "(shape: (2, 8)\n",
       " ┌─────────────┬─────────────┬─────┬─────┬────────────┬───────────┬────────────────┬────────────────┐\n",
       " │ subject     ┆ adult_child ┆ age ┆ sex ┆ handedness ┆ height_cm ┆ shoulder_to_wr ┆ elbow_to_wrist │\n",
       " │ ---         ┆ ---         ┆ --- ┆ --- ┆ ---        ┆ ---       ┆ ist_cm         ┆ _cm            │\n",
       " │ str         ┆ i64         ┆ i64 ┆ i64 ┆ i64        ┆ f64       ┆ ---            ┆ ---            │\n",
       " │             ┆             ┆     ┆     ┆            ┆           ┆ i64            ┆ f64            │\n",
       " ╞═════════════╪═════════════╪═════╪═════╪════════════╪═══════════╪════════════════╪════════════════╡\n",
       " │ SUBJ_016452 ┆ 1           ┆ 25  ┆ 1   ┆ 1          ┆ 165.0     ┆ 52             ┆ 23.0           │\n",
       " │ SUBJ_055840 ┆ 0           ┆ 13  ┆ 0   ┆ 1          ┆ 177.0     ┆ 52             ┆ 27.0           │\n",
       " └─────────────┴─────────────┴─────┴─────┴────────────┴───────────┴────────────────┴────────────────┘,\n",
       " shape: (81, 8)\n",
       " ┌─────────────┬─────────────┬─────┬─────┬────────────┬───────────┬────────────────┬────────────────┐\n",
       " │ subject     ┆ adult_child ┆ age ┆ sex ┆ handedness ┆ height_cm ┆ shoulder_to_wr ┆ elbow_to_wrist │\n",
       " │ ---         ┆ ---         ┆ --- ┆ --- ┆ ---        ┆ ---       ┆ ist_cm         ┆ _cm            │\n",
       " │ str         ┆ i64         ┆ i64 ┆ i64 ┆ i64        ┆ f64       ┆ ---            ┆ ---            │\n",
       " │             ┆             ┆     ┆     ┆            ┆           ┆ i64            ┆ f64            │\n",
       " ╞═════════════╪═════════════╪═════╪═════╪════════════╪═══════════╪════════════════╪════════════════╡\n",
       " │ SUBJ_000206 ┆ 1           ┆ 41  ┆ 1   ┆ 1          ┆ 172.0     ┆ 50             ┆ 25.0           │\n",
       " │ SUBJ_001430 ┆ 0           ┆ 11  ┆ 0   ┆ 1          ┆ 167.0     ┆ 51             ┆ 27.0           │\n",
       " │ SUBJ_002923 ┆ 1           ┆ 28  ┆ 1   ┆ 0          ┆ 164.0     ┆ 54             ┆ 26.0           │\n",
       " │ SUBJ_003328 ┆ 1           ┆ 33  ┆ 1   ┆ 1          ┆ 171.0     ┆ 52             ┆ 25.0           │\n",
       " │ SUBJ_004117 ┆ 0           ┆ 15  ┆ 0   ┆ 1          ┆ 184.0     ┆ 54             ┆ 28.0           │\n",
       " │ …           ┆ …           ┆ …   ┆ …   ┆ …          ┆ …         ┆ …              ┆ …              │\n",
       " │ SUBJ_063319 ┆ 1           ┆ 25  ┆ 1   ┆ 1          ┆ 173.0     ┆ 50             ┆ 29.0           │\n",
       " │ SUBJ_063346 ┆ 1           ┆ 42  ┆ 1   ┆ 1          ┆ 183.0     ┆ 51             ┆ 26.0           │\n",
       " │ SUBJ_063447 ┆ 1           ┆ 36  ┆ 0   ┆ 1          ┆ 175.0     ┆ 54             ┆ 25.0           │\n",
       " │ SUBJ_063464 ┆ 0           ┆ 15  ┆ 0   ┆ 1          ┆ 162.0     ┆ 43             ┆ 23.0           │\n",
       " │ SUBJ_064387 ┆ 0           ┆ 17  ┆ 1   ┆ 1          ┆ 155.0     ┆ 42             ┆ 22.0           │\n",
       " └─────────────┴─────────────┴─────┴─────┴────────────┴───────────┴────────────────┴────────────────┘)"
      ]
     },
     "execution_count": 39,
     "metadata": {},
     "output_type": "execute_result"
    }
   ],
   "source": [
    "demo_test, demo_train"
   ]
  },
  {
   "cell_type": "code",
   "execution_count": 40,
   "metadata": {},
   "outputs": [
    {
     "data": {
      "text/plain": [
       "(torch.Size([74, 7]),\n",
       " tensor([0., 0., 0., 0., 0., 0., 0., 0., 1., 0., 0., 0., 0., 0., 0., 0., 0., 0.]),\n",
       " torch.Size([56, 7]),\n",
       " None)"
      ]
     },
     "execution_count": 40,
     "metadata": {},
     "output_type": "execute_result"
    }
   ],
   "source": [
    "import torch\n",
    "import torch.nn as nn\n",
    "import torch.nn.functional as F\n",
    "\n",
    "# labels = df1.filter(pl.col(\"sequence_type\") == \"Target\")[\"gesture\"].unique().to_list() + ['Non-Target']\n",
    "labels = df1[\"gesture\"].unique().to_list()\n",
    "\n",
    "def oneHotEncode(labels, label):\n",
    "    return torch.tensor([1 if label == i else 0 for i in labels], dtype=torch.float32)\n",
    "\n",
    "def oneHotDecode(labels, encoding):\n",
    "    return labels[encoding.argmax()]\n",
    "\n",
    "def standardScalar(data):\n",
    "    mean = data.mean(0, keepdim=True)\n",
    "    std = data.std(0, unbiased=False, keepdim=True)\n",
    "    return (data - mean) / (std + 1e-6)\n",
    "    \n",
    "def dataloader(df):\n",
    "    ''' Works only for training data (data with ground truth) '''\n",
    "    for _, grouped in df.group_by([\"sequence_id\", \"subject\"]):\n",
    "        input = grouped[:, 3:10].to_torch(dtype=pl.Float32)\n",
    "        target = None\n",
    "        if grouped.shape[1] == 13:\n",
    "            target = grouped[0, [-2, -1]]\n",
    "            target = target[0, 0] # if target[0, 1] == 'Target' else target[0, 1]\n",
    "            target = oneHotEncode(labels, target)\n",
    "        yield { \"input\": input, \"target\": target }\n",
    "\n",
    "data1, data2 = next(dataloader(df1)), next(dataloader(df2))\n",
    "data1[\"input\"].shape, data1[\"target\"], data2[\"input\"].shape, data2[\"target\"]"
   ]
  },
  {
   "cell_type": "code",
   "execution_count": 41,
   "metadata": {},
   "outputs": [],
   "source": [
    "import pickle\n",
    "\n",
    "with open('outputs/train_data.pkl', 'wb') as f:\n",
    "    pickle.dump(list(dataloader(df1)), f)\n",
    "\n",
    "with open('outputs/test_data.pkl', 'wb') as f:\n",
    "    pickle.dump(list(dataloader(df2)), f)\n",
    "    \n",
    "with open('outputs/labels.pkl', 'wb') as f:\n",
    "    pickle.dump(labels, f)"
   ]
  }
 ],
 "metadata": {
  "kaggle": {
   "accelerator": "gpu",
   "dataSources": [
    {
     "databundleVersionId": 12518947,
     "sourceId": 102335,
     "sourceType": "competition"
    }
   ],
   "dockerImageVersionId": 31040,
   "isGpuEnabled": true,
   "isInternetEnabled": false,
   "language": "python",
   "sourceType": "notebook"
  },
  "kernelspec": {
   "display_name": "Python 3 (ipykernel)",
   "language": "python",
   "name": "python3"
  },
  "language_info": {
   "codemirror_mode": {
    "name": "ipython",
    "version": 3
   },
   "file_extension": ".py",
   "mimetype": "text/x-python",
   "name": "python",
   "nbconvert_exporter": "python",
   "pygments_lexer": "ipython3",
   "version": "3.11.11"
  }
 },
 "nbformat": 4,
 "nbformat_minor": 4
}
